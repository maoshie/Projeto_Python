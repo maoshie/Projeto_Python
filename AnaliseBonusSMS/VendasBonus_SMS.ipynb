{
 "cells": [
  {
   "cell_type": "code",
   "execution_count": 2,
   "metadata": {},
   "outputs": [
    {
     "name": "stdout",
     "output_type": "stream",
     "text": [
      "No mes de março, o vendedor: Bruno, vendeu: 58659\n",
      "SM43c918b6403b4775a8e669b7b1deef20\n",
      "No mes de maio, o vendedor: Hash, vendeu: 57312\n",
      "SMe553be9bf0ff42de92660dca589a605f\n"
     ]
    }
   ],
   "source": [
    "# Solução SMS para enviar um SMS quem bater a meta de R$55.000\n",
    "\n",
    "# instalção dos pacotes necessários;\n",
    "\n",
    "# pandas = Integração do Python com excell.\n",
    "# openpyxl = Integração do Python com excell.\n",
    "# twilio = envia um sms para o numero informado;\n",
    "\n",
    "# importar os pacotes\n",
    "import pandas as pd\n",
    "from twilio.rest import Client\n",
    "\n",
    "# Criar uma conta no twilio e seguir os passo a passo;\n",
    "# Your Account SID from twilio.com/console\n",
    "account_sid = \"account_sid\"\n",
    "# Your Auth Token from twilio.com/console\n",
    "auth_token  = \"auth_token\"\n",
    "client = Client(account_sid, auth_token)\n",
    "\n",
    "\n",
    "# Abrir os 6 arquivos do excell\n",
    "lista_meses = ['janeiro', 'fevereiro', 'março', 'abril', 'maio', 'junho']\n",
    "\n",
    "for mes in lista_meses:\n",
    "    # print(mes) -> Mostra o mes;\n",
    "    tabela_vendas = pd.read_excel(f'{mes}.xlsx')\n",
    "    # print(tabela_vendas) <- Mostra a tabela_vendas\n",
    "\n",
    "    # Para cada arquivo:\n",
    "    # Verificar se algum valor na coluna Vendas é maior que R$55.000\n",
    "    if (tabela_vendas['Vendas'] > 55000).any():\n",
    "        # exibe o vendedor e o valor da venda.\n",
    "        vendedor = tabela_vendas.loc[tabela_vendas['Vendas'] > 55000, 'Vendedor'].values[0]\n",
    "        vendas = tabela_vendas.loc[tabela_vendas['Vendas'] > 55000, 'Vendas'].values[0]\n",
    "        print(f'No mes de {mes}, o vendedor: {vendedor}, vendeu: {vendas}')\n",
    "        message = client.messages.create(\n",
    "            to=\"+5511xxxxxxxxx\", # my numero de telefone;\n",
    "            from_=\"+13125481681\", # My twilio Number;\n",
    "            body=f'No mes de {mes}, o vendedor: {vendedor}, vendeu: {vendas}')\n",
    "        print(message.sid)\n",
    "\n",
    "# Resultado \n",
    "'''\n",
    "No mes de março, o vendedor: Bruno, vendeu: 58659\n",
    "SM43c918b6403b4775a8e669b7b1deef20\n",
    "No mes de maio, o vendedor: Hash, vendeu: 57312\n",
    "SMe553be9bf0ff42de92660dca589a605f\n",
    "\n",
    "'''        \n"
   ]
  },
  {
   "cell_type": "code",
   "execution_count": null,
   "metadata": {},
   "outputs": [],
   "source": []
  }
 ],
 "metadata": {
  "kernelspec": {
   "display_name": "Python 3",
   "language": "python",
   "name": "python3"
  },
  "language_info": {
   "codemirror_mode": {
    "name": "ipython",
    "version": 3
   },
   "file_extension": ".py",
   "mimetype": "text/x-python",
   "name": "python",
   "nbconvert_exporter": "python",
   "pygments_lexer": "ipython3",
   "version": "3.8.5"
  }
 },
 "nbformat": 4,
 "nbformat_minor": 4
}
