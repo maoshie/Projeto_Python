{
 "cells": [
  {
   "cell_type": "code",
   "execution_count": 1,
   "metadata": {},
   "outputs": [
    {
     "name": "stdout",
     "output_type": "stream",
     "text": [
      "\n",
      "******************* Python Calculator *******************\n",
      "\n",
      "Selecione o numero da operação desejada: \n",
      "\n",
      "1 - Soma\n",
      "2 - Subtração\n",
      "3 - Multiplicação\n",
      "4 - Divisão\n",
      "\n",
      "Digite sua opção (1/2/3/4): 1\n",
      "\n",
      "Digite o primeiro numero: 5\n",
      "\n",
      "Digite o segundo numero: 5\n",
      "\n",
      "\n",
      "5 + 5 = 10\n",
      "\n",
      "\n"
     ]
    }
   ],
   "source": [
    "print(\"\\n******************* Python Calculator *******************\")\n",
    "\n",
    "#1- definir a função adição;\n",
    "def add(x,y):\n",
    "    return x+y\n",
    "\n",
    "#2- definir a função subtrair;\n",
    "def subtract(x,y):\n",
    "    return x-y\n",
    "\n",
    "#3- definir a função multiplicação;\n",
    "def multiply(x,y):\n",
    "    return x*y\n",
    "\n",
    "#4- definir a função divide;\n",
    "def divide(x,y):\n",
    "    return x/y\n",
    "\n",
    "# mostrar na tela o numero da opção\n",
    "print(\"\\nSelecione o numero da operação desejada: \\n\")\n",
    "print(\"1 - Soma\")\n",
    "print(\"2 - Subtração\")\n",
    "print(\"3 - Multiplicação\")\n",
    "print(\"4 - Divisão\")\n",
    " \n",
    "# escolha da opção\n",
    "escolha = input(\"\\nDigite sua opção (1/2/3/4): \")\n",
    "\n",
    "\n",
    "#declarando a variavel pra receber o numero;\n",
    "num1 = int(input(\"\\nDigite o primeiro numero: \"))\n",
    "num2 = int(input(\"\\nDigite o segundo numero: \"))\n",
    "\n",
    "# 1-soma;\n",
    "if escolha == '1':\n",
    "    print(\"\\n\") #quebra de linha;\n",
    "    print(num1, \"+\", num2, \"=\", add(num1,num2))\n",
    "    print(\"\\n\") #quebra de linha;\n",
    "\n",
    "# 2-Subtração;\n",
    "elif escolha == '2':\n",
    "    print(\"\\n\")\n",
    "    print(num1,\"-\",num2,\"=\", subtract(num1,num2))\n",
    "    print(\"\\n\")\n",
    "    \n",
    "# 3- Multiplicação;\n",
    "elif escolha == '3':\n",
    "    print(\"\\n\")\n",
    "    print(num1, \"*\", num2, \"=\", multiply(num1,num2))\n",
    "    print(\"\\n\")\n",
    "    \n",
    "# 4- Divisão;\n",
    "elif escolha == '4':\n",
    "    print(\"\\n\")\n",
    "    print(num1, \"/\", num2, \"=\", divide(num1,num2))\n",
    "    print(\"\\n\")\n",
    "    \n",
    "# opção errada;\n",
    "else:\n",
    "    print(\"opção incorreta\")\n",
    "    "
   ]
  },
  {
   "cell_type": "code",
   "execution_count": null,
   "metadata": {},
   "outputs": [],
   "source": [
    "# fazer tratamento de erro;"
   ]
  }
 ],
 "metadata": {
  "kernelspec": {
   "display_name": "Python 3",
   "language": "python",
   "name": "python3"
  },
  "language_info": {
   "codemirror_mode": {
    "name": "ipython",
    "version": 3
   },
   "file_extension": ".py",
   "mimetype": "text/x-python",
   "name": "python",
   "nbconvert_exporter": "python",
   "pygments_lexer": "ipython3",
   "version": "3.8.5"
  }
 },
 "nbformat": 4,
 "nbformat_minor": 4
}
