{
 "cells": [
  {
   "cell_type": "markdown",
   "metadata": {},
   "source": [
    "# FAZER UMA CALCULADORA\n",
    "\n",
    "- 1- Declarar as funções(add, subtract, multiply, divide)\n",
    "- 2- Mostrar na tela o numero da opção;\n",
    "- 3- Mostrar (Digite sua opção);\n",
    "- 4- Declarando a variavel pra receber o numero;\n",
    "- 5- Montar o calculo:\n",
    "- if escolha == 'escolha':\n",
    "    print(\"\\n\") #quebra de linha;\n",
    "    print(num1, \"+\", num2, \"=\", opçaõ(num1,num2))\n",
    "    print(\"\\n\") #quebra de linha;\n",
    "\n",
    "- 5.1- Fazer 4 escolhas e no ultimo else;"
   ]
  },
  {
   "cell_type": "code",
   "execution_count": null,
   "metadata": {},
   "outputs": [],
   "source": [
    "#1 - DEFININDO AS FUNÇÕES(add, subtract, multiply, divide)\n",
    "\n",
    "# definir a função de adição;\n",
    "def add(x,y):\n",
    "    return x+y\n",
    "\n",
    "# definindo a função de subtração;\n",
    "def subtract(x,y):\n",
    "    return x-y\n",
    "\n",
    "# definindo a função de multiplicação;\n",
    "def multiply(x,y):\n",
    "    return x*y\n",
    "\n",
    "# definindo a função de divisão;\n",
    "def divide(x,y):\n",
    "    return x/y"
   ]
  },
  {
   "cell_type": "code",
   "execution_count": null,
   "metadata": {},
   "outputs": [],
   "source": [
    "#2 - Mostrar na tela o numero da opção;\n",
    "print(\"\\nSelecione o numero da operação desejada: \")\n",
    "print(\"1 - Soma\")\n",
    "print(\"2 - Subtração\")\n",
    "print(\"3 - Multiplicação\")\n",
    "print(\"4 - Divisão\")"
   ]
  },
  {
   "cell_type": "code",
   "execution_count": null,
   "metadata": {},
   "outputs": [],
   "source": [
    "#3 - Mostrar(Digite sua opção);\n",
    "escolha = input(\"\\nDigite a opção desejada: \")"
   ]
  },
  {
   "cell_type": "code",
   "execution_count": null,
   "metadata": {},
   "outputs": [],
   "source": [
    "#4 - Declarando a variavel pra receber os numeros digitados;\n",
    "num1 = int(input(\"\\n Digite o primeiro numero: \"))\n",
    "num2 = int(input(\"\\n Digite o segundo numero: \"))"
   ]
  },
  {
   "cell_type": "code",
   "execution_count": null,
   "metadata": {},
   "outputs": [],
   "source": [
    "#5 - Montar o calculo:\n",
    "\n",
    "#5.1 add\n",
    "if escolha == \"1\":\n",
    "    print(\"\\n\")\n",
    "    print(num1, \"+\", num2, \"=\", add(num1,num2))\n",
    "    print(\"\\n\")"
   ]
  },
  {
   "cell_type": "code",
   "execution_count": null,
   "metadata": {},
   "outputs": [],
   "source": [
    "#5.2 subtract\n",
    "elif escolha == \"2\":\n",
    "    print(\"\\n\")\n",
    "    print(num1, \"-\", num2, \"=\", subtract(num1,num2))\n",
    "    print(\"\\n\")"
   ]
  },
  {
   "cell_type": "code",
   "execution_count": null,
   "metadata": {},
   "outputs": [],
   "source": [
    "#5.3 Multiply\n",
    "elif escolha == \"3\":\n",
    "    print(\"\\n\")\n",
    "    print(num1, \"*\", num2, \"=\", multiply(num1,num2))\n",
    "    print(\"\\n\")"
   ]
  },
  {
   "cell_type": "code",
   "execution_count": null,
   "metadata": {},
   "outputs": [],
   "source": [
    "#5.4 Divide \n",
    "elif escolha == \"4\":\n",
    "    print(\"\\n\")\n",
    "    print(num1, \"/\", num2, \"=\", divide(num1, num2))\n",
    "    print(\"\\n\")"
   ]
  },
  {
   "cell_type": "code",
   "execution_count": null,
   "metadata": {},
   "outputs": [],
   "source": [
    "#5.5 Sair\n",
    "else:\n",
    "    print(\"\\nOpção errada\")"
   ]
  }
 ],
 "metadata": {
  "kernelspec": {
   "display_name": "Python 3",
   "language": "python",
   "name": "python3"
  },
  "language_info": {
   "codemirror_mode": {
    "name": "ipython",
    "version": 3
   },
   "file_extension": ".py",
   "mimetype": "text/x-python",
   "name": "python",
   "nbconvert_exporter": "python",
   "pygments_lexer": "ipython3",
   "version": "3.8.5"
  }
 },
 "nbformat": 4,
 "nbformat_minor": 4
}
